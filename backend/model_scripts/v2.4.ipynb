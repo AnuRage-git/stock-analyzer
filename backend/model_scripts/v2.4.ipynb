{
 "cells": [
  {
   "cell_type": "code",
   "execution_count": null,
   "metadata": {
    "collapsed": true,
    "id": "ceKfZpLYZP80"
   },
   "outputs": [],
   "source": [
    "stock_companies = {\n",
    "    'ADANIPORTS': ['ADANIPORTS', 'Adani Ports'],\n",
    "    'ASIANPAINT': ['ASIANPAINT', 'Asian Paints'],\n",
    "    'AXISBANK': ['AXISBANK', 'Axis Bank'],\n",
    "    'BAJAJ-AUTO': ['BAJAJ-AUTO', 'Bajaj Auto'],\n",
    "    'BAJAJFINSV': ['BAJAJFINSV', 'Bajaj Finserv'],\n",
    "    'BAJFINANCE': ['BAJFINANCE', 'Bajaj Finance'],\n",
    "    'BHARTIARTL': ['BHARTIARTL', 'Bharti Airtel', 'Airtel'],\n",
    "    'BRITANNIA': ['BRITANNIA', 'Britannia Industries'],\n",
    "    'BPCL': ['BPCL', 'Bharat Petroleum'],\n",
    "    'COALINDIA': ['COALINDIA', 'Coal India'],\n",
    "    'EICHERMOT': ['EICHERMOT', 'Eicher Motors'],\n",
    "    'DRREDDY': ['DRREDDY', \"Dr. Reddy's Laboratories\"],\n",
    "    'GAIL': ['GAIL', 'Gas Authority of India'],\n",
    "    'GRASIM': ['GRASIM', 'Grasim Industries'],\n",
    "    'CIPLA': ['CIPLA', 'Cipla Limited'],\n",
    "    'HCLTECH': ['HCLTECH', 'HCL Technologies'],\n",
    "    'HDFCBANK': ['HDFCBANK', 'HDFC Bank'],\n",
    "    'HEROMOTOCO': ['HEROMOTOCO', 'Hero MotoCorp'],\n",
    "    'HINDUNILVR': ['HINDUNILVR', 'Hindustan Unilever', 'HUL'],\n",
    "    'HINDALCO': ['HINDALCO', 'Hindalco Industries'],\n",
    "    'ICICIBANK': ['ICICIBANK', 'ICICI Bank'],\n",
    "    'INDUSINDBK': ['INDUSINDBK', 'IndusInd Bank'],\n",
    "    'INFY': ['INFY', 'Infosys'],\n",
    "    'IOC': ['IOC', 'Indian Oil'],\n",
    "    'ITC': ['ITC', 'ITC Limited'],\n",
    "    'JSWSTEEL': ['JSWSTEEL', 'JSW Steel'],\n",
    "    'KOTAKBANK': ['KOTAKBANK', 'Kotak Mahindra Bank'],\n",
    "    'LT': ['LT', 'Larsen & Toubro'],\n",
    "    'MARUTI': ['MARUTI', 'Maruti Suzuki'],\n",
    "    'MM': ['MM', 'Mahindra & Mahindra'],\n",
    "    'NESTLEIND': ['NESTLEIND', 'Nestle India'],\n",
    "    'NTPC': ['NTPC', 'NTPC Limited'],\n",
    "    'ONGC': ['ONGC', 'Oil and Natural Gas Corporation'],\n",
    "    'POWERGRID': ['POWERGRID', 'Power Grid Corporation'],\n",
    "    'RELIANCE': ['RELIANCE', 'Reliance Industries'],\n",
    "    'SBIN': ['SBIN', 'State Bank of India'],\n",
    "    'SHREECEM': ['SHREECEM', 'Shree Cement'],\n",
    "    'SUNPHARMA': ['SUNPHARMA', 'Sun Pharma'],\n",
    "    'TATAMOTORS': ['TATAMOTORS', 'Tata Motors'],\n",
    "    'TATASTEEL': ['TATASTEEL', 'Tata Steel'],\n",
    "    'TCS': ['TCS', 'Tata Consultancy Services'],\n",
    "    'TECHM': ['TECHM', 'Tech Mahindra'],\n",
    "    'TITAN': ['TITAN', 'Titan Company'],\n",
    "    'ULTRACEMCO': ['ULTRACEMCO', 'UltraTech Cement'],\n",
    "    'UPL': ['UPL', 'UPL Limited'],\n",
    "    'VEDL': ['VEDL', 'Vedanta'],\n",
    "    'WIPRO': ['WIPRO', 'Wipro Limited'],\n",
    "    'ZEEL': ['ZEEL', 'Zee Entertainment']\n",
    "}\n",
    "companies = {}\n",
    "\n",
    "for stock, names in stock_companies.items():\n",
    "  companies[stock]=[name.lower() for name in names]\n"
   ]
  },
  {
   "cell_type": "code",
   "execution_count": 17,
   "metadata": {
    "executionInfo": {
     "elapsed": 2961,
     "status": "ok",
     "timestamp": 1733334016446,
     "user": {
      "displayName": "Saurabh Saini",
      "userId": "13411094811282468436"
     },
     "user_tz": -330
    },
    "id": "tgi_uRR9Iu9_"
   },
   "outputs": [],
   "source": [
    "import pandas as pd\n",
    "import json\n",
    "import os\n",
    "\n",
    "all_stocks = {}\n",
    "for filename in os.listdir('/content/drive/MyDrive/stocks_new'):\n",
    "    if filename.endswith('.csv'):\n",
    "        try:\n",
    "            filepath = os.path.join('/content/drive/MyDrive/stocks_new', filename)\n",
    "            df = pd.read_csv(filepath)\n",
    "            df = df.dropna(subset=['Close'])\n",
    "            df = df[df['Close'] != '']\n",
    "\n",
    "            company_name = filename[:-4]  # Remove the .csv extension\n",
    "\n",
    "            if 'Close' in df.columns and 'Date' in df.columns:\n",
    "                # Remove rows where 'Close' is NaN or empty\n",
    "                df = df.dropna(subset=['Close'])\n",
    "                df = df[df['Close'] != '']\n",
    "\n",
    "                # Convert 'Close' column to numeric, handling commas\n",
    "                df['Close'] = df['Close'].astype(str).str.replace(',', '', regex=False)\n",
    "                df['Close'] = pd.to_numeric(df['Close'], errors='coerce')\n",
    "                df = df.dropna(subset=['Close']) # Drop rows with invalid numeric values\n",
    "                all_stocks[company_name] = {\n",
    "                  'close': df['Close'].values.tolist(),\n",
    "                  'date': df['Date'].values.tolist()\n",
    "                }\n",
    "        except Exception as e:\n",
    "            print(f\"Error processing file {filename}: {e}\")\n",
    "\n",
    "\n",
    "with open('/content/drive/MyDrive/stocks_new/all_stocks.json', 'w') as f:\n",
    "    json.dump(all_stocks, f)"
   ]
  },
  {
   "cell_type": "code",
   "execution_count": 18,
   "metadata": {
    "executionInfo": {
     "elapsed": 26551,
     "status": "ok",
     "timestamp": 1733334054369,
     "user": {
      "displayName": "Saurabh Saini",
      "userId": "13411094811282468436"
     },
     "user_tz": -330
    },
    "id": "mOfA5nHFKZKy"
   },
   "outputs": [],
   "source": [
    "import json\n",
    "\n",
    "all_stocks = {}\n",
    "with open('/content/drive/MyDrive/stocks_new/all_stocks.json', 'r') as f:\n",
    "    all_stocks = json.load(f)\n",
    "\n",
    "articles_similarities = []\n",
    "with open('/content/drive/MyDrive/articles/similarities.json', 'r') as f:\n",
    "    articles_similarities = json.load(f)"
   ]
  },
  {
   "cell_type": "code",
   "execution_count": 19,
   "metadata": {
    "colab": {
     "base_uri": "https://localhost:8080/"
    },
    "executionInfo": {
     "elapsed": 453,
     "status": "ok",
     "timestamp": 1733334107574,
     "user": {
      "displayName": "Saurabh Saini",
      "userId": "13411094811282468436"
     },
     "user_tz": -330
    },
    "id": "WM_k5U-KR0e3",
    "outputId": "0a460563-5b30-49cc-ddbf-8132b7e41e52"
   },
   "outputs": [
    {
     "name": "stdout",
     "output_type": "stream",
     "text": [
      "48 34110\n"
     ]
    }
   ],
   "source": [
    "print(len(all_stocks), len(articles_similarities))"
   ]
  },
  {
   "cell_type": "code",
   "execution_count": 20,
   "metadata": {
    "executionInfo": {
     "elapsed": 9928,
     "status": "ok",
     "timestamp": 1733334129514,
     "user": {
      "displayName": "Saurabh Saini",
      "userId": "13411094811282468436"
     },
     "user_tz": -330
    },
    "id": "H_tc4GAYeLIb"
   },
   "outputs": [],
   "source": [
    "import numpy as np\n",
    "import pandas as pd\n",
    "from sklearn.preprocessing import StandardScaler\n",
    "\n",
    "# Function to get the stock prices for a given date range\n",
    "def get_stock_prices(stock, start_date):\n",
    "    if stock in all_stocks:\n",
    "        dates = all_stocks[stock]['date']\n",
    "        try:\n",
    "            start_index = dates.index(start_date)\n",
    "        except ValueError:\n",
    "            # Find the next immediate date\n",
    "            start_index = next((i for i, date in enumerate(dates) if date > start_date), None)\n",
    "            if start_index is None:\n",
    "                return None  # No date found after the start_date\n",
    "\n",
    "        end_index = start_index + 14\n",
    "        if end_index <= len(all_stocks[stock]['close']):\n",
    "            return all_stocks[stock]['close'][start_index:end_index]\n",
    "        else:\n",
    "            return None  # Not enough data points\n",
    "    else:\n",
    "        return None  # Stock not found\n",
    "\n",
    "def get_company_articles(company):\n",
    "  company_articles = []\n",
    "  for article in articles_similarities:\n",
    "    if article['current_company'] == company:\n",
    "      company_articles.append(article)\n",
    "  return company_articles\n",
    "\n",
    "# Function to clean and convert stock prices to floats\n",
    "def clean_stock_prices(stock_prices):\n",
    "    cleaned_prices = []\n",
    "    for price in stock_prices:\n",
    "        if isinstance(price, str):\n",
    "            price = price.replace(',', '')  # Remove commas\n",
    "        cleaned_prices.append(float(price))\n",
    "    return np.array(cleaned_prices)\n",
    "\n",
    "# Prepare the data for each stock\n",
    "def prepare_data(stock, articles, stock_prices, dates, sequence_length=60, influence_length=14):\n",
    "    sequences = []\n",
    "    labels = []\n",
    "\n",
    "    # Convert dates to a pandas Series for easy date manipulation\n",
    "    dates_series = pd.Series(dates)\n",
    "\n",
    "    # Clean and convert stock prices to floats\n",
    "    stock_prices = clean_stock_prices(stock_prices)\n",
    "\n",
    "    # Initialize scalers\n",
    "    scaler_stock_prices = StandardScaler()\n",
    "    scaler_difference_vector = StandardScaler()\n",
    "\n",
    "    stock_prices_scaled = scaler_stock_prices.fit_transform(stock_prices.reshape(1,-1)).flatten()\n",
    "\n",
    "    for i in range(len(stock_prices) - (sequence_length + 30)):\n",
    "        # Historical data\n",
    "        historical_data = stock_prices_scaled[i:i + sequence_length]\n",
    "\n",
    "        # Get the current date\n",
    "        current_date = pd.to_datetime(dates[i + sequence_length])\n",
    "\n",
    "        # Influenced data\n",
    "        influenced_data = []\n",
    "        for j in range(influence_length):\n",
    "            # Calculate the date for the influenced period\n",
    "            influenced_date = current_date - pd.Timedelta(days=influence_length - j)\n",
    "\n",
    "            # Find the article for the influenced date\n",
    "            article = next((a for a in articles if a['current_date'] == influenced_date), None)\n",
    "\n",
    "            if article:\n",
    "                most_similar_index = article['most_similar_index']\n",
    "                most_similar_company = article['most_similar_company']\n",
    "                most_similar_date = article['most_similar_date']\n",
    "                difference_vector = np.array(article['differece_vector'])\n",
    "\n",
    "                # Get the stock prices for the most similar company\n",
    "                similar_prices = get_stock_prices(most_similar_company, most_similar_date)\n",
    "                # Scale the similar prices\n",
    "                similar_prices_scaled = scaler_stock_prices.transform(similar_prices.reshape(-1, 1)).flatten()\n",
    "\n",
    "                # Append the scaled difference vector and scaled similar prices separately\n",
    "                influenced_data.append((difference_vector, similar_prices_scaled))\n",
    "            else:\n",
    "                # Handle the case where no article is available for the influenced date\n",
    "                influenced_data.append((np.zeros(768), np.zeros(14)))\n",
    "\n",
    "        sequences.append((historical_data, influenced_data))\n",
    "        labels.append(stock_prices[i + sequence_length:i + sequence_length + 30])\n",
    "\n",
    "    return sequences, np.array(labels), scaler_stock_prices\n",
    "\n",
    "# Example usage\n",
    "stock = 'ADANIPORTS'\n",
    "stock_prices = all_stocks[stock]['close']\n",
    "dates = all_stocks[stock]['date']\n",
    "articles = get_company_articles(stock)\n",
    "sequences, y_data, scaler_stock_prices = prepare_data(stock, articles, stock_prices, dates)"
   ]
  },
  {
   "cell_type": "code",
   "execution_count": null,
   "metadata": {
    "colab": {
     "base_uri": "https://localhost:8080/"
    },
    "executionInfo": {
     "elapsed": 4,
     "status": "ok",
     "timestamp": 1733297712435,
     "user": {
      "displayName": "Saurabh Saini",
      "userId": "13411094811282468436"
     },
     "user_tz": -330
    },
    "id": "wphfDsQUUzvw",
    "outputId": "baca4e2a-d0e0-450b-f632-364eabdc12d2"
   },
   "outputs": [
    {
     "name": "stdout",
     "output_type": "stream",
     "text": [
      "4126 4126\n"
     ]
    }
   ],
   "source": [
    "print(len(sequences),len(y_data))"
   ]
  },
  {
   "cell_type": "code",
   "execution_count": 30,
   "metadata": {
    "executionInfo": {
     "elapsed": 1790,
     "status": "ok",
     "timestamp": 1733337177771,
     "user": {
      "displayName": "Saurabh Saini",
      "userId": "13411094811282468436"
     },
     "user_tz": -330
    },
    "id": "NIgL-MqyoPBc"
   },
   "outputs": [],
   "source": [
    "from tensorflow.keras.models import Model\n",
    "from tensorflow.keras.layers import Input, Conv1D, MaxPooling1D, LSTM, Dropout, Dense, Concatenate, Flatten\n",
    "\n",
    "from tensorflow.keras import backend as K\n",
    "K.clear_session()\n",
    "\n",
    "# Define the shape of the historical data\n",
    "historical_data_shape = (60, 1)  # Assuming stock_prices is a list of lists or a 2D array\n",
    "\n",
    "# Main input: 60-day sequence data\n",
    "main_input = Input(shape=historical_data_shape, name='main_input')\n",
    "\n",
    "# Process the main input\n",
    "x = Conv1D(filters=256, kernel_size=3, activation='relu')(main_input)\n",
    "x = MaxPooling1D(pool_size=2)(x)\n",
    "x = LSTM(128, return_sequences=True)(x)\n",
    "x = Dropout(0.2)(x)\n",
    "x = LSTM(128, return_sequences=True)(x)\n",
    "x = Dropout(0.2)(x)\n",
    "x = LSTM(128, return_sequences=True)(x)\n",
    "x = Dropout(0.2)(x)\n",
    "x = LSTM(64, return_sequences=False)(x)\n",
    "x = Dropout(0.1)(x)\n",
    "\n",
    "# Influenced input: 14-day influenced data\n",
    "influenced_input = Input(shape=(14, 768 + 14), name='influenced_input')\n",
    "\n",
    "# Separate the difference vector and similar prices\n",
    "# difference_vector_input = Input(shape=(768,), name='difference_vector_input')\n",
    "# similar_prices_input = Input(shape=(14,), name='similar_prices_input')\n",
    "\n",
    "# Process the influenced input directly\n",
    "y = Dense(128, activation='relu')(influenced_input)\n",
    "y = Dropout(0.2)(y)\n",
    "y = Dense(64, activation='relu')(y)\n",
    "y = Dropout(0.2)(y)\n",
    "y = Flatten()(y)\n",
    "\n",
    "# Flatten the influenced input\n",
    "# flattened_influenced = Flatten()(influenced_input)\n",
    "\n",
    "# Merge the outputs\n",
    "merged = Concatenate()([x, y])\n",
    "\n",
    "# Continue with further layers\n",
    "output = Dense(128, activation='relu')(merged)\n",
    "output = Dropout(0.2)(output)\n",
    "output = Dense(64, activation='relu')(output)\n",
    "output = Dropout(0.2)(output)\n",
    "output = Dense(30)(output)  # Output layer for predicting the next 30 trading days\n",
    "\n",
    "# Define the model\n",
    "model = Model(inputs=[main_input, influenced_input], outputs=output)\n",
    "\n",
    "# Compile the model\n",
    "model.compile(optimizer='adam', loss='mean_squared_error')"
   ]
  },
  {
   "cell_type": "code",
   "execution_count": 27,
   "metadata": {
    "colab": {
     "base_uri": "https://localhost:8080/",
     "height": 954
    },
    "executionInfo": {
     "elapsed": 6,
     "status": "ok",
     "timestamp": 1733337093872,
     "user": {
      "displayName": "Saurabh Saini",
      "userId": "13411094811282468436"
     },
     "user_tz": -330
    },
    "id": "h11xf_aIkwYc",
    "outputId": "4c35eb1c-b9f8-41c0-a175-34051860e027"
   },
   "outputs": [
    {
     "data": {
      "text/html": [
       "<pre style=\"white-space:pre;overflow-x:auto;line-height:normal;font-family:Menlo,'DejaVu Sans Mono',consolas,'Courier New',monospace\"><span style=\"font-weight: bold\">Model: \"functional\"</span>\n",
       "</pre>\n"
      ],
      "text/plain": [
       "\u001b[1mModel: \"functional\"\u001b[0m\n"
      ]
     },
     "metadata": {},
     "output_type": "display_data"
    },
    {
     "data": {
      "text/html": [
       "<pre style=\"white-space:pre;overflow-x:auto;line-height:normal;font-family:Menlo,'DejaVu Sans Mono',consolas,'Courier New',monospace\">┏━━━━━━━━━━━━━━━━━━━━━━━━━━━┳━━━━━━━━━━━━━━━━━━━━━━━━┳━━━━━━━━━━━━━━━━┳━━━━━━━━━━━━━━━━━━━━━━━━┓\n",
       "┃<span style=\"font-weight: bold\"> Layer (type)              </span>┃<span style=\"font-weight: bold\"> Output Shape           </span>┃<span style=\"font-weight: bold\">        Param # </span>┃<span style=\"font-weight: bold\"> Connected to           </span>┃\n",
       "┡━━━━━━━━━━━━━━━━━━━━━━━━━━━╇━━━━━━━━━━━━━━━━━━━━━━━━╇━━━━━━━━━━━━━━━━╇━━━━━━━━━━━━━━━━━━━━━━━━┩\n",
       "│ main_input (<span style=\"color: #0087ff; text-decoration-color: #0087ff\">InputLayer</span>)   │ (<span style=\"color: #00d7ff; text-decoration-color: #00d7ff\">None</span>, <span style=\"color: #00af00; text-decoration-color: #00af00\">60</span>, <span style=\"color: #00af00; text-decoration-color: #00af00\">1</span>)          │              <span style=\"color: #00af00; text-decoration-color: #00af00\">0</span> │ -                      │\n",
       "├───────────────────────────┼────────────────────────┼────────────────┼────────────────────────┤\n",
       "│ conv1d (<span style=\"color: #0087ff; text-decoration-color: #0087ff\">Conv1D</span>)           │ (<span style=\"color: #00d7ff; text-decoration-color: #00d7ff\">None</span>, <span style=\"color: #00af00; text-decoration-color: #00af00\">58</span>, <span style=\"color: #00af00; text-decoration-color: #00af00\">256</span>)        │          <span style=\"color: #00af00; text-decoration-color: #00af00\">1,024</span> │ main_input[<span style=\"color: #00af00; text-decoration-color: #00af00\">0</span>][<span style=\"color: #00af00; text-decoration-color: #00af00\">0</span>]       │\n",
       "├───────────────────────────┼────────────────────────┼────────────────┼────────────────────────┤\n",
       "│ max_pooling1d             │ (<span style=\"color: #00d7ff; text-decoration-color: #00d7ff\">None</span>, <span style=\"color: #00af00; text-decoration-color: #00af00\">29</span>, <span style=\"color: #00af00; text-decoration-color: #00af00\">256</span>)        │              <span style=\"color: #00af00; text-decoration-color: #00af00\">0</span> │ conv1d[<span style=\"color: #00af00; text-decoration-color: #00af00\">0</span>][<span style=\"color: #00af00; text-decoration-color: #00af00\">0</span>]           │\n",
       "│ (<span style=\"color: #0087ff; text-decoration-color: #0087ff\">MaxPooling1D</span>)            │                        │                │                        │\n",
       "├───────────────────────────┼────────────────────────┼────────────────┼────────────────────────┤\n",
       "│ lstm (<span style=\"color: #0087ff; text-decoration-color: #0087ff\">LSTM</span>)               │ (<span style=\"color: #00d7ff; text-decoration-color: #00d7ff\">None</span>, <span style=\"color: #00af00; text-decoration-color: #00af00\">29</span>, <span style=\"color: #00af00; text-decoration-color: #00af00\">128</span>)        │        <span style=\"color: #00af00; text-decoration-color: #00af00\">197,120</span> │ max_pooling1d[<span style=\"color: #00af00; text-decoration-color: #00af00\">0</span>][<span style=\"color: #00af00; text-decoration-color: #00af00\">0</span>]    │\n",
       "├───────────────────────────┼────────────────────────┼────────────────┼────────────────────────┤\n",
       "│ dropout (<span style=\"color: #0087ff; text-decoration-color: #0087ff\">Dropout</span>)         │ (<span style=\"color: #00d7ff; text-decoration-color: #00d7ff\">None</span>, <span style=\"color: #00af00; text-decoration-color: #00af00\">29</span>, <span style=\"color: #00af00; text-decoration-color: #00af00\">128</span>)        │              <span style=\"color: #00af00; text-decoration-color: #00af00\">0</span> │ lstm[<span style=\"color: #00af00; text-decoration-color: #00af00\">0</span>][<span style=\"color: #00af00; text-decoration-color: #00af00\">0</span>]             │\n",
       "├───────────────────────────┼────────────────────────┼────────────────┼────────────────────────┤\n",
       "│ lstm_1 (<span style=\"color: #0087ff; text-decoration-color: #0087ff\">LSTM</span>)             │ (<span style=\"color: #00d7ff; text-decoration-color: #00d7ff\">None</span>, <span style=\"color: #00af00; text-decoration-color: #00af00\">29</span>, <span style=\"color: #00af00; text-decoration-color: #00af00\">128</span>)        │        <span style=\"color: #00af00; text-decoration-color: #00af00\">131,584</span> │ dropout[<span style=\"color: #00af00; text-decoration-color: #00af00\">0</span>][<span style=\"color: #00af00; text-decoration-color: #00af00\">0</span>]          │\n",
       "├───────────────────────────┼────────────────────────┼────────────────┼────────────────────────┤\n",
       "│ influenced_input          │ (<span style=\"color: #00d7ff; text-decoration-color: #00d7ff\">None</span>, <span style=\"color: #00af00; text-decoration-color: #00af00\">14</span>, <span style=\"color: #00af00; text-decoration-color: #00af00\">782</span>)        │              <span style=\"color: #00af00; text-decoration-color: #00af00\">0</span> │ -                      │\n",
       "│ (<span style=\"color: #0087ff; text-decoration-color: #0087ff\">InputLayer</span>)              │                        │                │                        │\n",
       "├───────────────────────────┼────────────────────────┼────────────────┼────────────────────────┤\n",
       "│ dropout_1 (<span style=\"color: #0087ff; text-decoration-color: #0087ff\">Dropout</span>)       │ (<span style=\"color: #00d7ff; text-decoration-color: #00d7ff\">None</span>, <span style=\"color: #00af00; text-decoration-color: #00af00\">29</span>, <span style=\"color: #00af00; text-decoration-color: #00af00\">128</span>)        │              <span style=\"color: #00af00; text-decoration-color: #00af00\">0</span> │ lstm_1[<span style=\"color: #00af00; text-decoration-color: #00af00\">0</span>][<span style=\"color: #00af00; text-decoration-color: #00af00\">0</span>]           │\n",
       "├───────────────────────────┼────────────────────────┼────────────────┼────────────────────────┤\n",
       "│ dense (<span style=\"color: #0087ff; text-decoration-color: #0087ff\">Dense</span>)             │ (<span style=\"color: #00d7ff; text-decoration-color: #00d7ff\">None</span>, <span style=\"color: #00af00; text-decoration-color: #00af00\">14</span>, <span style=\"color: #00af00; text-decoration-color: #00af00\">128</span>)        │        <span style=\"color: #00af00; text-decoration-color: #00af00\">100,224</span> │ influenced_input[<span style=\"color: #00af00; text-decoration-color: #00af00\">0</span>][<span style=\"color: #00af00; text-decoration-color: #00af00\">0</span>] │\n",
       "├───────────────────────────┼────────────────────────┼────────────────┼────────────────────────┤\n",
       "│ lstm_2 (<span style=\"color: #0087ff; text-decoration-color: #0087ff\">LSTM</span>)             │ (<span style=\"color: #00d7ff; text-decoration-color: #00d7ff\">None</span>, <span style=\"color: #00af00; text-decoration-color: #00af00\">29</span>, <span style=\"color: #00af00; text-decoration-color: #00af00\">128</span>)        │        <span style=\"color: #00af00; text-decoration-color: #00af00\">131,584</span> │ dropout_1[<span style=\"color: #00af00; text-decoration-color: #00af00\">0</span>][<span style=\"color: #00af00; text-decoration-color: #00af00\">0</span>]        │\n",
       "├───────────────────────────┼────────────────────────┼────────────────┼────────────────────────┤\n",
       "│ dropout_4 (<span style=\"color: #0087ff; text-decoration-color: #0087ff\">Dropout</span>)       │ (<span style=\"color: #00d7ff; text-decoration-color: #00d7ff\">None</span>, <span style=\"color: #00af00; text-decoration-color: #00af00\">14</span>, <span style=\"color: #00af00; text-decoration-color: #00af00\">128</span>)        │              <span style=\"color: #00af00; text-decoration-color: #00af00\">0</span> │ dense[<span style=\"color: #00af00; text-decoration-color: #00af00\">0</span>][<span style=\"color: #00af00; text-decoration-color: #00af00\">0</span>]            │\n",
       "├───────────────────────────┼────────────────────────┼────────────────┼────────────────────────┤\n",
       "│ dropout_2 (<span style=\"color: #0087ff; text-decoration-color: #0087ff\">Dropout</span>)       │ (<span style=\"color: #00d7ff; text-decoration-color: #00d7ff\">None</span>, <span style=\"color: #00af00; text-decoration-color: #00af00\">29</span>, <span style=\"color: #00af00; text-decoration-color: #00af00\">128</span>)        │              <span style=\"color: #00af00; text-decoration-color: #00af00\">0</span> │ lstm_2[<span style=\"color: #00af00; text-decoration-color: #00af00\">0</span>][<span style=\"color: #00af00; text-decoration-color: #00af00\">0</span>]           │\n",
       "├───────────────────────────┼────────────────────────┼────────────────┼────────────────────────┤\n",
       "│ dense_1 (<span style=\"color: #0087ff; text-decoration-color: #0087ff\">Dense</span>)           │ (<span style=\"color: #00d7ff; text-decoration-color: #00d7ff\">None</span>, <span style=\"color: #00af00; text-decoration-color: #00af00\">14</span>, <span style=\"color: #00af00; text-decoration-color: #00af00\">64</span>)         │          <span style=\"color: #00af00; text-decoration-color: #00af00\">8,256</span> │ dropout_4[<span style=\"color: #00af00; text-decoration-color: #00af00\">0</span>][<span style=\"color: #00af00; text-decoration-color: #00af00\">0</span>]        │\n",
       "├───────────────────────────┼────────────────────────┼────────────────┼────────────────────────┤\n",
       "│ lstm_3 (<span style=\"color: #0087ff; text-decoration-color: #0087ff\">LSTM</span>)             │ (<span style=\"color: #00d7ff; text-decoration-color: #00d7ff\">None</span>, <span style=\"color: #00af00; text-decoration-color: #00af00\">64</span>)             │         <span style=\"color: #00af00; text-decoration-color: #00af00\">49,408</span> │ dropout_2[<span style=\"color: #00af00; text-decoration-color: #00af00\">0</span>][<span style=\"color: #00af00; text-decoration-color: #00af00\">0</span>]        │\n",
       "├───────────────────────────┼────────────────────────┼────────────────┼────────────────────────┤\n",
       "│ dropout_5 (<span style=\"color: #0087ff; text-decoration-color: #0087ff\">Dropout</span>)       │ (<span style=\"color: #00d7ff; text-decoration-color: #00d7ff\">None</span>, <span style=\"color: #00af00; text-decoration-color: #00af00\">14</span>, <span style=\"color: #00af00; text-decoration-color: #00af00\">64</span>)         │              <span style=\"color: #00af00; text-decoration-color: #00af00\">0</span> │ dense_1[<span style=\"color: #00af00; text-decoration-color: #00af00\">0</span>][<span style=\"color: #00af00; text-decoration-color: #00af00\">0</span>]          │\n",
       "├───────────────────────────┼────────────────────────┼────────────────┼────────────────────────┤\n",
       "│ dropout_3 (<span style=\"color: #0087ff; text-decoration-color: #0087ff\">Dropout</span>)       │ (<span style=\"color: #00d7ff; text-decoration-color: #00d7ff\">None</span>, <span style=\"color: #00af00; text-decoration-color: #00af00\">64</span>)             │              <span style=\"color: #00af00; text-decoration-color: #00af00\">0</span> │ lstm_3[<span style=\"color: #00af00; text-decoration-color: #00af00\">0</span>][<span style=\"color: #00af00; text-decoration-color: #00af00\">0</span>]           │\n",
       "├───────────────────────────┼────────────────────────┼────────────────┼────────────────────────┤\n",
       "│ flatten (<span style=\"color: #0087ff; text-decoration-color: #0087ff\">Flatten</span>)         │ (<span style=\"color: #00d7ff; text-decoration-color: #00d7ff\">None</span>, <span style=\"color: #00af00; text-decoration-color: #00af00\">896</span>)            │              <span style=\"color: #00af00; text-decoration-color: #00af00\">0</span> │ dropout_5[<span style=\"color: #00af00; text-decoration-color: #00af00\">0</span>][<span style=\"color: #00af00; text-decoration-color: #00af00\">0</span>]        │\n",
       "├───────────────────────────┼────────────────────────┼────────────────┼────────────────────────┤\n",
       "│ concatenate (<span style=\"color: #0087ff; text-decoration-color: #0087ff\">Concatenate</span>) │ (<span style=\"color: #00d7ff; text-decoration-color: #00d7ff\">None</span>, <span style=\"color: #00af00; text-decoration-color: #00af00\">960</span>)            │              <span style=\"color: #00af00; text-decoration-color: #00af00\">0</span> │ dropout_3[<span style=\"color: #00af00; text-decoration-color: #00af00\">0</span>][<span style=\"color: #00af00; text-decoration-color: #00af00\">0</span>],       │\n",
       "│                           │                        │                │ flatten[<span style=\"color: #00af00; text-decoration-color: #00af00\">0</span>][<span style=\"color: #00af00; text-decoration-color: #00af00\">0</span>]          │\n",
       "├───────────────────────────┼────────────────────────┼────────────────┼────────────────────────┤\n",
       "│ dense_2 (<span style=\"color: #0087ff; text-decoration-color: #0087ff\">Dense</span>)           │ (<span style=\"color: #00d7ff; text-decoration-color: #00d7ff\">None</span>, <span style=\"color: #00af00; text-decoration-color: #00af00\">128</span>)            │        <span style=\"color: #00af00; text-decoration-color: #00af00\">123,008</span> │ concatenate[<span style=\"color: #00af00; text-decoration-color: #00af00\">0</span>][<span style=\"color: #00af00; text-decoration-color: #00af00\">0</span>]      │\n",
       "├───────────────────────────┼────────────────────────┼────────────────┼────────────────────────┤\n",
       "│ dropout_6 (<span style=\"color: #0087ff; text-decoration-color: #0087ff\">Dropout</span>)       │ (<span style=\"color: #00d7ff; text-decoration-color: #00d7ff\">None</span>, <span style=\"color: #00af00; text-decoration-color: #00af00\">128</span>)            │              <span style=\"color: #00af00; text-decoration-color: #00af00\">0</span> │ dense_2[<span style=\"color: #00af00; text-decoration-color: #00af00\">0</span>][<span style=\"color: #00af00; text-decoration-color: #00af00\">0</span>]          │\n",
       "├───────────────────────────┼────────────────────────┼────────────────┼────────────────────────┤\n",
       "│ dense_3 (<span style=\"color: #0087ff; text-decoration-color: #0087ff\">Dense</span>)           │ (<span style=\"color: #00d7ff; text-decoration-color: #00d7ff\">None</span>, <span style=\"color: #00af00; text-decoration-color: #00af00\">64</span>)             │          <span style=\"color: #00af00; text-decoration-color: #00af00\">8,256</span> │ dropout_6[<span style=\"color: #00af00; text-decoration-color: #00af00\">0</span>][<span style=\"color: #00af00; text-decoration-color: #00af00\">0</span>]        │\n",
       "├───────────────────────────┼────────────────────────┼────────────────┼────────────────────────┤\n",
       "│ dropout_7 (<span style=\"color: #0087ff; text-decoration-color: #0087ff\">Dropout</span>)       │ (<span style=\"color: #00d7ff; text-decoration-color: #00d7ff\">None</span>, <span style=\"color: #00af00; text-decoration-color: #00af00\">64</span>)             │              <span style=\"color: #00af00; text-decoration-color: #00af00\">0</span> │ dense_3[<span style=\"color: #00af00; text-decoration-color: #00af00\">0</span>][<span style=\"color: #00af00; text-decoration-color: #00af00\">0</span>]          │\n",
       "├───────────────────────────┼────────────────────────┼────────────────┼────────────────────────┤\n",
       "│ dense_4 (<span style=\"color: #0087ff; text-decoration-color: #0087ff\">Dense</span>)           │ (<span style=\"color: #00d7ff; text-decoration-color: #00d7ff\">None</span>, <span style=\"color: #00af00; text-decoration-color: #00af00\">30</span>)             │          <span style=\"color: #00af00; text-decoration-color: #00af00\">1,950</span> │ dropout_7[<span style=\"color: #00af00; text-decoration-color: #00af00\">0</span>][<span style=\"color: #00af00; text-decoration-color: #00af00\">0</span>]        │\n",
       "└───────────────────────────┴────────────────────────┴────────────────┴────────────────────────┘\n",
       "</pre>\n"
      ],
      "text/plain": [
       "┏━━━━━━━━━━━━━━━━━━━━━━━━━━━┳━━━━━━━━━━━━━━━━━━━━━━━━┳━━━━━━━━━━━━━━━━┳━━━━━━━━━━━━━━━━━━━━━━━━┓\n",
       "┃\u001b[1m \u001b[0m\u001b[1mLayer (type)             \u001b[0m\u001b[1m \u001b[0m┃\u001b[1m \u001b[0m\u001b[1mOutput Shape          \u001b[0m\u001b[1m \u001b[0m┃\u001b[1m \u001b[0m\u001b[1m       Param #\u001b[0m\u001b[1m \u001b[0m┃\u001b[1m \u001b[0m\u001b[1mConnected to          \u001b[0m\u001b[1m \u001b[0m┃\n",
       "┡━━━━━━━━━━━━━━━━━━━━━━━━━━━╇━━━━━━━━━━━━━━━━━━━━━━━━╇━━━━━━━━━━━━━━━━╇━━━━━━━━━━━━━━━━━━━━━━━━┩\n",
       "│ main_input (\u001b[38;5;33mInputLayer\u001b[0m)   │ (\u001b[38;5;45mNone\u001b[0m, \u001b[38;5;34m60\u001b[0m, \u001b[38;5;34m1\u001b[0m)          │              \u001b[38;5;34m0\u001b[0m │ -                      │\n",
       "├───────────────────────────┼────────────────────────┼────────────────┼────────────────────────┤\n",
       "│ conv1d (\u001b[38;5;33mConv1D\u001b[0m)           │ (\u001b[38;5;45mNone\u001b[0m, \u001b[38;5;34m58\u001b[0m, \u001b[38;5;34m256\u001b[0m)        │          \u001b[38;5;34m1,024\u001b[0m │ main_input[\u001b[38;5;34m0\u001b[0m][\u001b[38;5;34m0\u001b[0m]       │\n",
       "├───────────────────────────┼────────────────────────┼────────────────┼────────────────────────┤\n",
       "│ max_pooling1d             │ (\u001b[38;5;45mNone\u001b[0m, \u001b[38;5;34m29\u001b[0m, \u001b[38;5;34m256\u001b[0m)        │              \u001b[38;5;34m0\u001b[0m │ conv1d[\u001b[38;5;34m0\u001b[0m][\u001b[38;5;34m0\u001b[0m]           │\n",
       "│ (\u001b[38;5;33mMaxPooling1D\u001b[0m)            │                        │                │                        │\n",
       "├───────────────────────────┼────────────────────────┼────────────────┼────────────────────────┤\n",
       "│ lstm (\u001b[38;5;33mLSTM\u001b[0m)               │ (\u001b[38;5;45mNone\u001b[0m, \u001b[38;5;34m29\u001b[0m, \u001b[38;5;34m128\u001b[0m)        │        \u001b[38;5;34m197,120\u001b[0m │ max_pooling1d[\u001b[38;5;34m0\u001b[0m][\u001b[38;5;34m0\u001b[0m]    │\n",
       "├───────────────────────────┼────────────────────────┼────────────────┼────────────────────────┤\n",
       "│ dropout (\u001b[38;5;33mDropout\u001b[0m)         │ (\u001b[38;5;45mNone\u001b[0m, \u001b[38;5;34m29\u001b[0m, \u001b[38;5;34m128\u001b[0m)        │              \u001b[38;5;34m0\u001b[0m │ lstm[\u001b[38;5;34m0\u001b[0m][\u001b[38;5;34m0\u001b[0m]             │\n",
       "├───────────────────────────┼────────────────────────┼────────────────┼────────────────────────┤\n",
       "│ lstm_1 (\u001b[38;5;33mLSTM\u001b[0m)             │ (\u001b[38;5;45mNone\u001b[0m, \u001b[38;5;34m29\u001b[0m, \u001b[38;5;34m128\u001b[0m)        │        \u001b[38;5;34m131,584\u001b[0m │ dropout[\u001b[38;5;34m0\u001b[0m][\u001b[38;5;34m0\u001b[0m]          │\n",
       "├───────────────────────────┼────────────────────────┼────────────────┼────────────────────────┤\n",
       "│ influenced_input          │ (\u001b[38;5;45mNone\u001b[0m, \u001b[38;5;34m14\u001b[0m, \u001b[38;5;34m782\u001b[0m)        │              \u001b[38;5;34m0\u001b[0m │ -                      │\n",
       "│ (\u001b[38;5;33mInputLayer\u001b[0m)              │                        │                │                        │\n",
       "├───────────────────────────┼────────────────────────┼────────────────┼────────────────────────┤\n",
       "│ dropout_1 (\u001b[38;5;33mDropout\u001b[0m)       │ (\u001b[38;5;45mNone\u001b[0m, \u001b[38;5;34m29\u001b[0m, \u001b[38;5;34m128\u001b[0m)        │              \u001b[38;5;34m0\u001b[0m │ lstm_1[\u001b[38;5;34m0\u001b[0m][\u001b[38;5;34m0\u001b[0m]           │\n",
       "├───────────────────────────┼────────────────────────┼────────────────┼────────────────────────┤\n",
       "│ dense (\u001b[38;5;33mDense\u001b[0m)             │ (\u001b[38;5;45mNone\u001b[0m, \u001b[38;5;34m14\u001b[0m, \u001b[38;5;34m128\u001b[0m)        │        \u001b[38;5;34m100,224\u001b[0m │ influenced_input[\u001b[38;5;34m0\u001b[0m][\u001b[38;5;34m0\u001b[0m] │\n",
       "├───────────────────────────┼────────────────────────┼────────────────┼────────────────────────┤\n",
       "│ lstm_2 (\u001b[38;5;33mLSTM\u001b[0m)             │ (\u001b[38;5;45mNone\u001b[0m, \u001b[38;5;34m29\u001b[0m, \u001b[38;5;34m128\u001b[0m)        │        \u001b[38;5;34m131,584\u001b[0m │ dropout_1[\u001b[38;5;34m0\u001b[0m][\u001b[38;5;34m0\u001b[0m]        │\n",
       "├───────────────────────────┼────────────────────────┼────────────────┼────────────────────────┤\n",
       "│ dropout_4 (\u001b[38;5;33mDropout\u001b[0m)       │ (\u001b[38;5;45mNone\u001b[0m, \u001b[38;5;34m14\u001b[0m, \u001b[38;5;34m128\u001b[0m)        │              \u001b[38;5;34m0\u001b[0m │ dense[\u001b[38;5;34m0\u001b[0m][\u001b[38;5;34m0\u001b[0m]            │\n",
       "├───────────────────────────┼────────────────────────┼────────────────┼────────────────────────┤\n",
       "│ dropout_2 (\u001b[38;5;33mDropout\u001b[0m)       │ (\u001b[38;5;45mNone\u001b[0m, \u001b[38;5;34m29\u001b[0m, \u001b[38;5;34m128\u001b[0m)        │              \u001b[38;5;34m0\u001b[0m │ lstm_2[\u001b[38;5;34m0\u001b[0m][\u001b[38;5;34m0\u001b[0m]           │\n",
       "├───────────────────────────┼────────────────────────┼────────────────┼────────────────────────┤\n",
       "│ dense_1 (\u001b[38;5;33mDense\u001b[0m)           │ (\u001b[38;5;45mNone\u001b[0m, \u001b[38;5;34m14\u001b[0m, \u001b[38;5;34m64\u001b[0m)         │          \u001b[38;5;34m8,256\u001b[0m │ dropout_4[\u001b[38;5;34m0\u001b[0m][\u001b[38;5;34m0\u001b[0m]        │\n",
       "├───────────────────────────┼────────────────────────┼────────────────┼────────────────────────┤\n",
       "│ lstm_3 (\u001b[38;5;33mLSTM\u001b[0m)             │ (\u001b[38;5;45mNone\u001b[0m, \u001b[38;5;34m64\u001b[0m)             │         \u001b[38;5;34m49,408\u001b[0m │ dropout_2[\u001b[38;5;34m0\u001b[0m][\u001b[38;5;34m0\u001b[0m]        │\n",
       "├───────────────────────────┼────────────────────────┼────────────────┼────────────────────────┤\n",
       "│ dropout_5 (\u001b[38;5;33mDropout\u001b[0m)       │ (\u001b[38;5;45mNone\u001b[0m, \u001b[38;5;34m14\u001b[0m, \u001b[38;5;34m64\u001b[0m)         │              \u001b[38;5;34m0\u001b[0m │ dense_1[\u001b[38;5;34m0\u001b[0m][\u001b[38;5;34m0\u001b[0m]          │\n",
       "├───────────────────────────┼────────────────────────┼────────────────┼────────────────────────┤\n",
       "│ dropout_3 (\u001b[38;5;33mDropout\u001b[0m)       │ (\u001b[38;5;45mNone\u001b[0m, \u001b[38;5;34m64\u001b[0m)             │              \u001b[38;5;34m0\u001b[0m │ lstm_3[\u001b[38;5;34m0\u001b[0m][\u001b[38;5;34m0\u001b[0m]           │\n",
       "├───────────────────────────┼────────────────────────┼────────────────┼────────────────────────┤\n",
       "│ flatten (\u001b[38;5;33mFlatten\u001b[0m)         │ (\u001b[38;5;45mNone\u001b[0m, \u001b[38;5;34m896\u001b[0m)            │              \u001b[38;5;34m0\u001b[0m │ dropout_5[\u001b[38;5;34m0\u001b[0m][\u001b[38;5;34m0\u001b[0m]        │\n",
       "├───────────────────────────┼────────────────────────┼────────────────┼────────────────────────┤\n",
       "│ concatenate (\u001b[38;5;33mConcatenate\u001b[0m) │ (\u001b[38;5;45mNone\u001b[0m, \u001b[38;5;34m960\u001b[0m)            │              \u001b[38;5;34m0\u001b[0m │ dropout_3[\u001b[38;5;34m0\u001b[0m][\u001b[38;5;34m0\u001b[0m],       │\n",
       "│                           │                        │                │ flatten[\u001b[38;5;34m0\u001b[0m][\u001b[38;5;34m0\u001b[0m]          │\n",
       "├───────────────────────────┼────────────────────────┼────────────────┼────────────────────────┤\n",
       "│ dense_2 (\u001b[38;5;33mDense\u001b[0m)           │ (\u001b[38;5;45mNone\u001b[0m, \u001b[38;5;34m128\u001b[0m)            │        \u001b[38;5;34m123,008\u001b[0m │ concatenate[\u001b[38;5;34m0\u001b[0m][\u001b[38;5;34m0\u001b[0m]      │\n",
       "├───────────────────────────┼────────────────────────┼────────────────┼────────────────────────┤\n",
       "│ dropout_6 (\u001b[38;5;33mDropout\u001b[0m)       │ (\u001b[38;5;45mNone\u001b[0m, \u001b[38;5;34m128\u001b[0m)            │              \u001b[38;5;34m0\u001b[0m │ dense_2[\u001b[38;5;34m0\u001b[0m][\u001b[38;5;34m0\u001b[0m]          │\n",
       "├───────────────────────────┼────────────────────────┼────────────────┼────────────────────────┤\n",
       "│ dense_3 (\u001b[38;5;33mDense\u001b[0m)           │ (\u001b[38;5;45mNone\u001b[0m, \u001b[38;5;34m64\u001b[0m)             │          \u001b[38;5;34m8,256\u001b[0m │ dropout_6[\u001b[38;5;34m0\u001b[0m][\u001b[38;5;34m0\u001b[0m]        │\n",
       "├───────────────────────────┼────────────────────────┼────────────────┼────────────────────────┤\n",
       "│ dropout_7 (\u001b[38;5;33mDropout\u001b[0m)       │ (\u001b[38;5;45mNone\u001b[0m, \u001b[38;5;34m64\u001b[0m)             │              \u001b[38;5;34m0\u001b[0m │ dense_3[\u001b[38;5;34m0\u001b[0m][\u001b[38;5;34m0\u001b[0m]          │\n",
       "├───────────────────────────┼────────────────────────┼────────────────┼────────────────────────┤\n",
       "│ dense_4 (\u001b[38;5;33mDense\u001b[0m)           │ (\u001b[38;5;45mNone\u001b[0m, \u001b[38;5;34m30\u001b[0m)             │          \u001b[38;5;34m1,950\u001b[0m │ dropout_7[\u001b[38;5;34m0\u001b[0m][\u001b[38;5;34m0\u001b[0m]        │\n",
       "└───────────────────────────┴────────────────────────┴────────────────┴────────────────────────┘\n"
      ]
     },
     "metadata": {},
     "output_type": "display_data"
    },
    {
     "data": {
      "text/html": [
       "<pre style=\"white-space:pre;overflow-x:auto;line-height:normal;font-family:Menlo,'DejaVu Sans Mono',consolas,'Courier New',monospace\"><span style=\"font-weight: bold\"> Total params: </span><span style=\"color: #00af00; text-decoration-color: #00af00\">752,414</span> (2.87 MB)\n",
       "</pre>\n"
      ],
      "text/plain": [
       "\u001b[1m Total params: \u001b[0m\u001b[38;5;34m752,414\u001b[0m (2.87 MB)\n"
      ]
     },
     "metadata": {},
     "output_type": "display_data"
    },
    {
     "data": {
      "text/html": [
       "<pre style=\"white-space:pre;overflow-x:auto;line-height:normal;font-family:Menlo,'DejaVu Sans Mono',consolas,'Courier New',monospace\"><span style=\"font-weight: bold\"> Trainable params: </span><span style=\"color: #00af00; text-decoration-color: #00af00\">752,414</span> (2.87 MB)\n",
       "</pre>\n"
      ],
      "text/plain": [
       "\u001b[1m Trainable params: \u001b[0m\u001b[38;5;34m752,414\u001b[0m (2.87 MB)\n"
      ]
     },
     "metadata": {},
     "output_type": "display_data"
    },
    {
     "data": {
      "text/html": [
       "<pre style=\"white-space:pre;overflow-x:auto;line-height:normal;font-family:Menlo,'DejaVu Sans Mono',consolas,'Courier New',monospace\"><span style=\"font-weight: bold\"> Non-trainable params: </span><span style=\"color: #00af00; text-decoration-color: #00af00\">0</span> (0.00 B)\n",
       "</pre>\n"
      ],
      "text/plain": [
       "\u001b[1m Non-trainable params: \u001b[0m\u001b[38;5;34m0\u001b[0m (0.00 B)\n"
      ]
     },
     "metadata": {},
     "output_type": "display_data"
    }
   ],
   "source": [
    "model.summary()"
   ]
  },
  {
   "cell_type": "code",
   "execution_count": null,
   "metadata": {
    "colab": {
     "base_uri": "https://localhost:8080/",
     "height": 550
    },
    "executionInfo": {
     "elapsed": 3130,
     "status": "error",
     "timestamp": 1733337188894,
     "user": {
      "displayName": "Saurabh Saini",
      "userId": "13411094811282468436"
     },
     "user_tz": -330
    },
    "id": "fG-2l8qKoRq7",
    "outputId": "873d18c6-4328-472e-8800-4b82875aba98"
   },
   "outputs": [],
   "source": [
    "from sklearn.model_selection import train_test_split\n",
    "from tensorflow.keras import backend as K\n",
    "K.clear_session()\n",
    "\n",
    "\n",
    "# Prepare the data for training\n",
    "X_main = np.array([seq[0] for seq in sequences]).reshape(-1, 60, 1)\n",
    "X_influenced = np.array([np.hstack([np.hstack((dv, sp)) for dv, sp in seq[1]]) for seq in sequences])\n",
    "X_influenced = X_influenced.reshape(-1, 14, 782)\n",
    "\n",
    "\n",
    "# Split X_main and y_data\n",
    "X_train_main, X_test_main, y_train, y_test = train_test_split(\n",
    "    X_main, y_data, test_size=0.2, random_state=16\n",
    ")\n",
    "\n",
    "# Split X_influenced using the same indices to maintain alignment\n",
    "X_train_influenced, X_test_influenced = train_test_split(\n",
    "    X_influenced, test_size=0.2, random_state=16\n",
    ")\n",
    "\n",
    "# Fit the model\n",
    "model.fit(\n",
    "    {'main_input': X_train_main, 'influenced_input': X_train_influenced},\n",
    "    y_train,\n",
    "    epochs=50,\n",
    "    batch_size=32,\n",
    "    validation_data=(\n",
    "        {'main_input': X_test_main, 'influenced_input': X_test_influenced},\n",
    "        y_test\n",
    "    )\n",
    ")"
   ]
  },
  {
   "cell_type": "code",
   "execution_count": 32,
   "metadata": {
    "colab": {
     "base_uri": "https://localhost:8080/"
    },
    "executionInfo": {
     "elapsed": 1288,
     "status": "ok",
     "timestamp": 1733339127348,
     "user": {
      "displayName": "Saurabh Saini",
      "userId": "13411094811282468436"
     },
     "user_tz": -330
    },
    "id": "U5Pxj_zvEAe_",
    "outputId": "a226da0f-d1a0-48b8-9b44-79d31e87a34a"
   },
   "outputs": [
    {
     "name": "stdout",
     "output_type": "stream",
     "text": [
      "\u001b[1m1/1\u001b[0m \u001b[32m━━━━━━━━━━━━━━━━━━━━\u001b[0m\u001b[37m\u001b[0m \u001b[1m1s\u001b[0m 987ms/step\n",
      "Intermediate main_input output shape: (1, 64)\n",
      "\u001b[1m1/1\u001b[0m \u001b[32m━━━━━━━━━━━━━━━━━━━━\u001b[0m\u001b[37m\u001b[0m \u001b[1m0s\u001b[0m 55ms/step\n",
      "Intermediate influenced_input output shape: (1, 896)\n"
     ]
    }
   ],
   "source": [
    "from tensorflow.keras.models import Model\n",
    "\n",
    "# Test the main_input path\n",
    "test_main_input = X_train_main[:1]\n",
    "intermediate_main_output = Model(inputs=main_input, outputs=x).predict(test_main_input)\n",
    "print(\"Intermediate main_input output shape:\", intermediate_main_output.shape)\n",
    "\n",
    "# Test the influenced_input path\n",
    "test_influenced_input = X_train_influenced[:1]\n",
    "intermediate_influenced_output = Model(inputs=influenced_input, outputs=y).predict(test_influenced_input)\n",
    "print(\"Intermediate influenced_input output shape:\", intermediate_influenced_output.shape)\n"
   ]
  },
  {
   "cell_type": "code",
   "execution_count": 25,
   "metadata": {
    "colab": {
     "base_uri": "https://localhost:8080/"
    },
    "executionInfo": {
     "elapsed": 426,
     "status": "ok",
     "timestamp": 1733336760878,
     "user": {
      "displayName": "Saurabh Saini",
      "userId": "13411094811282468436"
     },
     "user_tz": -330
    },
    "id": "KJ5CyRMk6_Sq",
    "outputId": "3bfae5e6-a00d-4e29-b578-7daac138d8fa"
   },
   "outputs": [
    {
     "name": "stdout",
     "output_type": "stream",
     "text": [
      "X_main shape: (4104, 60, 1)\n",
      "X_influenced shape: (4104, 14, 782)\n",
      "y_data shape: (4104, 30)\n"
     ]
    }
   ],
   "source": [
    "print(\"X_main shape:\", X_main.shape)\n",
    "print(\"X_influenced shape:\", X_influenced.shape)\n",
    "print(\"y_data shape:\", y_data.shape)\n"
   ]
  },
  {
   "cell_type": "code",
   "execution_count": null,
   "metadata": {
    "id": "AD9JOGnWYFPr"
   },
   "outputs": [],
   "source": [
    "# Make predictions\n",
    "predictions = model.predict({'main_input': X_test_main, 'influenced_input': X_test_influenced})\n",
    "\n",
    "# Inverse transform the predictions to the original scale\n",
    "predictions_original_scale = scaler_stock_prices.inverse_transform(predictions)\n",
    "\n",
    "# Inverse transform the labels to the original scale for comparison\n",
    "y_test_original_scale = scaler_stock_prices.inverse_transform(y_test)"
   ]
  },
  {
   "cell_type": "code",
   "execution_count": null,
   "metadata": {
    "id": "XvSXswxyzxmL"
   },
   "outputs": [],
   "source": [
    "def prepare_data( stock_prices):\n",
    "    sequences = []\n",
    "    labels = []\n"
   ]
  }
 ],
 "metadata": {
  "colab": {
   "authorship_tag": "ABX9TyOmDHz2I9k4bxt/2D/wSrmE",
   "mount_file_id": "1C_N6iLB2pylI8wxyWhgfYumQCgldGw6a",
   "provenance": []
  },
  "kernelspec": {
   "display_name": "Python 3",
   "name": "python3"
  },
  "language_info": {
   "name": "python"
  }
 },
 "nbformat": 4,
 "nbformat_minor": 0
}
